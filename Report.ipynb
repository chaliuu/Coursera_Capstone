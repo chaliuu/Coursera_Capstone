{
 "cells": [
  {
   "cell_type": "markdown",
   "metadata": {},
   "source": [
    "# Introduction and Business Understanding\n",
    "Car crashes take lives often. Therefore, it would be useful if there is a way to predict one's likelihood of being in a car crash and its severity. This would allow drivers to choose when to drive more wisely and to avoid conditions that would put them at risk.The data science problem is if and how can we use existing car crash data to predict the likelihood and severity of a car crash?"
   ]
  },
  {
   "cell_type": "markdown",
   "metadata": {},
   "source": [
    "# Data\n",
    "The data i will be using is a tabular data from Seattle that records all car collisions from 2004 until now. It has many attributes such as VEHCOUNT(vehicle count) and ROADCOND (road condition) to be used as features for surpervised learning models. The target will be the SEVERITYCODE, codes that correspond to the severity of the collision. A 3 means fatality, a 2b means serious injury, a 2 means injury, a 1 means property damage, and a 0 means unknown. \n"
   ]
  },
  {
   "cell_type": "code",
   "execution_count": null,
   "metadata": {},
   "outputs": [],
   "source": []
  }
 ],
 "metadata": {
  "kernelspec": {
   "display_name": "Python 3",
   "language": "python",
   "name": "python3"
  },
  "language_info": {
   "codemirror_mode": {
    "name": "ipython",
    "version": 3
   },
   "file_extension": ".py",
   "mimetype": "text/x-python",
   "name": "python",
   "nbconvert_exporter": "python",
   "pygments_lexer": "ipython3",
   "version": "3.7.4"
  }
 },
 "nbformat": 4,
 "nbformat_minor": 2
}
